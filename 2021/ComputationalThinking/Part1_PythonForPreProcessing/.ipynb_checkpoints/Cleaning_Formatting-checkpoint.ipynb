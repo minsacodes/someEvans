{
 "cells": [
  {
   "cell_type": "markdown",
   "metadata": {},
   "source": [
    "<center><img src=\"http://i.imgur.com/sSaOozN.png\" width=\"500\"></center>"
   ]
  },
  {
   "cell_type": "markdown",
   "metadata": {},
   "source": [
    "## Course: Computational Thinking for Governance Analytics\n",
    "\n",
    "### Prof. José Manuel Magallanes, PhD \n",
    "* Visiting Professor of Computational Policy at Evans School of Public Policy and Governance, and eScience Institute Senior Data Science Fellow, University of Washington.\n",
    "* Professor of Government and Political Methodology, Pontificia Universidad Católica del Perú. \n",
    "\n",
    "_____\n",
    "\n",
    "# Session 2:  Data Cleaning and Formatting in Python\n",
    "<a id='beginning'></a>"
   ]
  },
  {
   "cell_type": "markdown",
   "metadata": {},
   "source": [
    "Having collected the data does not always allow you to produce some analytics right away. There is often a lot of pre processing to be done. \n",
    "\n",
    "This session is about:\n",
    "\n",
    "* Cleaning: making sure each cell has a value that could be used in your coming procedures. The _impurities_ do not allow formatting the data correctly: commas instead of points and viceversa, blanks/spaces, unneeded symbols (dollar, euro symbols), or non-standard symbols to represent missing values.\n",
    "\n",
    "* Fomatting: making sure the clean value is in the right data type. if you are going to do text analysis, you may need to get rid of repetitive words, normalize them into lower case, and turn them back to their root or stem. For statistical work, you need to differentiate among nominal, ordinal, numerical and strings.\n",
    "\n",
    "Take a look at the tables in this wikipedia page, pay attention to:\n",
    "\n",
    "- The values of each index.\n",
    "- The table of indices for all countries measured.\n",
    "\n",
    "There is a table on disputed territories, you can skip that one."
   ]
  },
  {
   "cell_type": "code",
   "execution_count": null,
   "metadata": {},
   "outputs": [],
   "source": [
    "from IPython.display import IFrame  \n",
    "wikiLink=\"https://en.wikipedia.org/wiki/List_of_freedom_indices\" \n",
    "IFrame(wikiLink, width=900, height=500)"
   ]
  },
  {
   "cell_type": "markdown",
   "metadata": {},
   "source": [
    "You should have observed the following:\n",
    "\n",
    "1. The values of each index:\n",
    "   - Varies from three to five **level** values. \n",
    "   - They use different **level** names.\n",
    "   - The levels are **ordinal**.\n",
    "2. The table of countries:\n",
    "   - The column names has very long **column names**. \n",
    "   - The column names include **footnotes**.\n",
    "   - The presence of **images** (the flags) in the country column.\n",
    "   - The use on \"n/a\" for **missing values**."
   ]
  },
  {
   "cell_type": "markdown",
   "metadata": {},
   "source": [
    "Let's try to get the table using pandas:"
   ]
  },
  {
   "cell_type": "code",
   "execution_count": null,
   "metadata": {},
   "outputs": [],
   "source": [
    "import pandas as pd\n",
    "\n",
    "wikiTables=pd.read_html(wikiLink, # link\n",
    "                        #header=0, # where is the header?\n",
    "                        flavor='bs4', # helper to translate html\n",
    "                        attrs={'class': 'wikitable sortable'}) # attributes to identify element(s)"
   ]
  },
  {
   "cell_type": "markdown",
   "metadata": {},
   "source": [
    "The object **wikiTables** is a list. I know before hand that it has only one table as data frame:"
   ]
  },
  {
   "cell_type": "code",
   "execution_count": null,
   "metadata": {},
   "outputs": [],
   "source": [
    "wikiTables[0] # you should vary this index until you get the table you need!"
   ]
  },
  {
   "cell_type": "markdown",
   "metadata": {},
   "source": [
    "Pandas will show yo the _head_ and the _tail_ of the dataframe. There you can verify that the column names are well positioned. Let me save the data frame temporarily:"
   ]
  },
  {
   "cell_type": "code",
   "execution_count": null,
   "metadata": {},
   "outputs": [],
   "source": [
    "DF=wikiTables[0]"
   ]
  },
  {
   "cell_type": "markdown",
   "metadata": {},
   "source": [
    "From the previous preview, you know that: \n",
    "1. Cleaning: You need to rename the columns. You will learn pandas' **rename()**.\n",
    "2. Cleaning: You need to verify if the column _Country_ is clean: What was caused by the presence of flags?\n",
    "3. Cleaning: Verify that level names are consistent: the _same_ level may have a slightly different label. You will learn  **value_counts()**.\n",
    "4. Formatting: Check what data types have been recognised. Use **describe()** and/or **info**().\n",
    "4. Formatting: Put each column in the right data type if needed.\n",
    "\n",
    "Notice that Pandas was able to detect the poorly labelled missing value 'n\\a' and turned it into the right value: **NaN**.\n",
    "\n",
    "Let's start!"
   ]
  },
  {
   "cell_type": "markdown",
   "metadata": {},
   "source": [
    "As you will be changing the data frame, make a copy first: "
   ]
  },
  {
   "cell_type": "code",
   "execution_count": null,
   "metadata": {},
   "outputs": [],
   "source": [
    "DFTest=DF.copy() # working with a copy..."
   ]
  },
  {
   "cell_type": "markdown",
   "metadata": {},
   "source": [
    "Continue...."
   ]
  },
  {
   "cell_type": "markdown",
   "metadata": {},
   "source": [
    "##  **Renaming columns**\n",
    "\n",
    "Headers names should be simple, no *blanks*, no special characters, no *footnote* calls. We have that problem. You can try these strategies:\n",
    "1. Using __Brute-force__ strategy: I simply change the names. Very practical when you have few names."
   ]
  },
  {
   "cell_type": "code",
   "execution_count": null,
   "metadata": {},
   "outputs": [],
   "source": [
    "# all columns\n",
    "DFTest.columns=['Country', 'FreedomintheWorld', 'IndexofEconomicFreedom','PressFreedomIndex', 'DemocracyIndex']\n",
    "#see changes:\n",
    "DFTest.head()"
   ]
  },
  {
   "cell_type": "markdown",
   "metadata": {},
   "source": [
    "2.  Using **rename()** from Pandas: The advantage is that you can change some, not all, names."
   ]
  },
  {
   "cell_type": "code",
   "execution_count": null,
   "metadata": {},
   "outputs": [],
   "source": [
    "DFTest=DF.copy() # recreating DFTest\n",
    "some=['FreedomintheWorld', 'IndexofEconomicFreedom','PressFreedomIndex', 'DemocracyIndex']\n"
   ]
  },
  {
   "cell_type": "code",
   "execution_count": null,
   "metadata": {},
   "outputs": [],
   "source": [
    "DFTest.columns[1::] # all but the first."
   ]
  },
  {
   "cell_type": "markdown",
   "metadata": {},
   "source": [
    "Here, we create a dictionary where the **key** is the original name, and the **value** is the new value:"
   ]
  },
  {
   "cell_type": "code",
   "execution_count": null,
   "metadata": {},
   "outputs": [],
   "source": [
    "dict(zip(DFTest.columns[1::], some))"
   ]
  },
  {
   "cell_type": "markdown",
   "metadata": {},
   "source": [
    "Now, you are ready to rename:"
   ]
  },
  {
   "cell_type": "code",
   "execution_count": null,
   "metadata": {},
   "outputs": [],
   "source": [
    "DFTest.rename(columns=dict(zip(DFTest.columns[1::], some)))"
   ]
  },
  {
   "cell_type": "markdown",
   "metadata": {},
   "source": [
    "The previous result is just a preview, no change has been made:"
   ]
  },
  {
   "cell_type": "code",
   "execution_count": null,
   "metadata": {},
   "outputs": [],
   "source": [
    "DFTest"
   ]
  },
  {
   "cell_type": "markdown",
   "metadata": {},
   "source": [
    "The _rename()_ function, as other pandas functions, has the **inplace** attribute. "
   ]
  },
  {
   "cell_type": "code",
   "execution_count": null,
   "metadata": {},
   "outputs": [],
   "source": [
    "DFTest.rename(columns=dict(zip(DFTest.columns[1::], some)),inplace=True)"
   ]
  },
  {
   "cell_type": "markdown",
   "metadata": {},
   "source": [
    "Take a look now:"
   ]
  },
  {
   "cell_type": "code",
   "execution_count": null,
   "metadata": {},
   "outputs": [],
   "source": [
    "DFTest"
   ]
  },
  {
   "cell_type": "markdown",
   "metadata": {},
   "source": [
    "3. Enter __Computational thinking in cleaning__\n",
    "\n",
    "When dealing with bigger data sets, you need to get used to automating the cleaning process. It is not possible 100%, but the more you can automate, the better. In general, you will have some strategies for cleaning, which can be used alone or in tandem:\n",
    "\n",
    "3.1. Regular expression or _REGEX_ approach.\n",
    "\n",
    "3.2. Partitioning or _Divide and Conquer_ approach.\n",
    "\n",
    "There are also some particular functions from base Python you will learn on the way."
   ]
  },
  {
   "cell_type": "markdown",
   "metadata": {},
   "source": [
    "**<font color=\"blue\">3.1 REGEX APPROACH</font>** \n",
    "\n",
    "This approach will use some special coding to extract or delete particular pieces of text. You will first need to call this library, before anything else:"
   ]
  },
  {
   "cell_type": "code",
   "execution_count": null,
   "metadata": {},
   "outputs": [],
   "source": [
    "import re"
   ]
  },
  {
   "cell_type": "markdown",
   "metadata": {},
   "source": [
    "Let's show you how this works using this example string:"
   ]
  },
  {
   "cell_type": "code",
   "execution_count": null,
   "metadata": {},
   "outputs": [],
   "source": [
    "textExample=\"var1 iab22 les333[4]\""
   ]
  },
  {
   "cell_type": "markdown",
   "metadata": {},
   "source": [
    "In the text above, I just need to keep: \"**variables**\":"
   ]
  },
  {
   "cell_type": "code",
   "execution_count": null,
   "metadata": {},
   "outputs": [],
   "source": [
    "# one or more blanks: \\\\s+\n",
    "# one or more numbers: \\\\d+\n",
    "# find opening bracket : \\\\[\n",
    "# find closing bracket: \\\\]\n",
    "\n",
    "# You can combine using '|' (or):\n",
    "WhenYouFind='\\\\s+|\\\\d+|\\\\[|\\\\]'\n",
    "replaceWith=''\n",
    "\n",
    "# use it:\n",
    "re.sub(WhenYouFind,replaceWith,textExample)"
   ]
  },
  {
   "cell_type": "markdown",
   "metadata": {},
   "source": [
    "I use the function in one string, now I want to use it in a group of elements, the column names, **would it work**??"
   ]
  },
  {
   "cell_type": "code",
   "execution_count": null,
   "metadata": {},
   "outputs": [],
   "source": [
    "# this will not work:\n",
    "#re.sub(WhenYouFind,replaceWith,DFTest.columns)"
   ]
  },
  {
   "cell_type": "markdown",
   "metadata": {},
   "source": [
    "This is a list comprehension:"
   ]
  },
  {
   "cell_type": "code",
   "execution_count": null,
   "metadata": {},
   "outputs": [],
   "source": [
    "# substitute the elements in each NAME in the COLUMNS:\n",
    "[re.sub(WhenYouFind,replaceWith,NAME) for NAME in DFTest.columns]"
   ]
  },
  {
   "cell_type": "markdown",
   "metadata": {},
   "source": [
    "I can concatenate other functions:"
   ]
  },
  {
   "cell_type": "code",
   "execution_count": null,
   "metadata": {},
   "outputs": [],
   "source": [
    "# Turn the result to lower case\n",
    "[re.sub(WhenYouFind,replaceWith,NAME).lower() for NAME in DFTest.columns]"
   ]
  },
  {
   "cell_type": "markdown",
   "metadata": {},
   "source": [
    "If you know you will often use this transformation, you can create a __function__: "
   ]
  },
  {
   "cell_type": "code",
   "execution_count": null,
   "metadata": {},
   "outputs": [],
   "source": [
    "# \"lambda\" style function\n",
    "# name of function is 'cleaner'\n",
    "# function transforms INPUT\n",
    "\n",
    "cleaner = lambda INPUT: re.sub(WhenYouFind,replaceWith,INPUT).lower()"
   ]
  },
  {
   "cell_type": "markdown",
   "metadata": {},
   "source": [
    "You can now use this function in the comprehension:"
   ]
  },
  {
   "cell_type": "code",
   "execution_count": null,
   "metadata": {},
   "outputs": [],
   "source": [
    "[cleaner(TEXT) for TEXT in DF.columns]"
   ]
  },
  {
   "cell_type": "markdown",
   "metadata": {},
   "source": [
    "You can use Pandas own **str** functions:"
   ]
  },
  {
   "cell_type": "code",
   "execution_count": null,
   "metadata": {},
   "outputs": [],
   "source": [
    "DFTest=DF.copy() # recreating DFTest\n",
    "\n",
    "# Pandas only:\n",
    "DFTest.columns.str.replace(WhenYouFind,replaceWith,regex=True).str.lower()"
   ]
  },
  {
   "cell_type": "markdown",
   "metadata": {},
   "source": [
    "Then, I just clean those ones:"
   ]
  },
  {
   "cell_type": "code",
   "execution_count": null,
   "metadata": {},
   "outputs": [],
   "source": [
    "DFTest.columns[1::].str.replace(WhenYouFind,replaceWith,regex=True).str.lower()"
   ]
  },
  {
   "cell_type": "code",
   "execution_count": null,
   "metadata": {},
   "outputs": [],
   "source": [
    "# saving result :\n",
    "someNewNames=DFTest.columns[1::].str.replace(WhenYouFind,replaceWith,regex=True).str.lower()\n",
    "# which are:\n",
    "someNewNames"
   ]
  },
  {
   "cell_type": "markdown",
   "metadata": {},
   "source": [
    "Now that you have clean last names, it is time to change the old ones. First, make sure you have a clean one for each bad one:"
   ]
  },
  {
   "cell_type": "code",
   "execution_count": null,
   "metadata": {},
   "outputs": [],
   "source": [
    "# using 'zip()':\n",
    "changes=dict(zip(DF.iloc[:,1::].columns,someNewNames))\n",
    "changes"
   ]
  },
  {
   "cell_type": "markdown",
   "metadata": {},
   "source": [
    "Once you have a dict like that one, you can use it to rename the columns as before with *rename()*:"
   ]
  },
  {
   "cell_type": "code",
   "execution_count": null,
   "metadata": {},
   "outputs": [],
   "source": [
    "DFTest.rename(columns=changes,inplace=True)"
   ]
  },
  {
   "cell_type": "markdown",
   "metadata": {},
   "source": [
    "Let's see the result:"
   ]
  },
  {
   "cell_type": "code",
   "execution_count": null,
   "metadata": {
    "scrolled": true
   },
   "outputs": [],
   "source": [
    "DFTest"
   ]
  },
  {
   "cell_type": "markdown",
   "metadata": {},
   "source": [
    "**<font color=\"blue\">3.2.  DIVIDE AND CONQUER</font>** \n",
    "\n",
    "This is an strategy that works in tandem with the previous ones. It is used to reduce complexity of the tasks."
   ]
  },
  {
   "cell_type": "code",
   "execution_count": null,
   "metadata": {},
   "outputs": [],
   "source": [
    "DFTest=DF.copy() # recreating DFTest\n",
    "DFTest.columns"
   ]
  },
  {
   "cell_type": "code",
   "execution_count": null,
   "metadata": {},
   "outputs": [],
   "source": [
    "# split the text when you find '['\n",
    "notSoBad=[TEXT.split(\"[\") for TEXT in DFTest.columns]\n",
    "# see:\n",
    "notSoBad"
   ]
  },
  {
   "cell_type": "code",
   "execution_count": null,
   "metadata": {},
   "outputs": [],
   "source": [
    "# split the text when you find '['and keep first element:\n",
    "notSoBad=[TEXT.split(\"[\")[0] for TEXT in DFTest.columns]\n",
    "# see:\n",
    "notSoBad"
   ]
  },
  {
   "cell_type": "code",
   "execution_count": null,
   "metadata": {},
   "outputs": [],
   "source": [
    "#split using the blanks\n",
    "goodEnough=[TEXT.split(\" \") for TEXT in notSoBad]\n",
    "# see:\n",
    "goodEnough"
   ]
  },
  {
   "cell_type": "code",
   "execution_count": null,
   "metadata": {},
   "outputs": [],
   "source": [
    "#split using the blanks and them concatenate using \"join()\":\n",
    "betterThanBad=[\"\".join(TEXT.split(\" \")) for TEXT in notSoBad]\n",
    "# see:\n",
    "betterThanBad"
   ]
  },
  {
   "cell_type": "markdown",
   "metadata": {},
   "source": [
    "Let me know get rid of the year, and the words _index_ and *of*:"
   ]
  },
  {
   "cell_type": "code",
   "execution_count": null,
   "metadata": {},
   "outputs": [],
   "source": [
    "#original:\n",
    "import re\n",
    "[re.sub('\\d+|index|of',\"\",text.lower()) for text in betterThanBad]"
   ]
  },
  {
   "cell_type": "markdown",
   "metadata": {},
   "source": [
    "Just changing the names:"
   ]
  },
  {
   "cell_type": "code",
   "execution_count": null,
   "metadata": {},
   "outputs": [],
   "source": [
    "DF.columns=[re.sub('\\d+|index|of',\"\",text.lower()) for text in betterThanBad]"
   ]
  },
  {
   "cell_type": "markdown",
   "metadata": {},
   "source": [
    "##  **Check country names** \n",
    "\n",
    "As you may have realized, the cells have categories, so we do not need to compute statistics, as they will not say much. Let me take a loom at the country cells:"
   ]
  },
  {
   "cell_type": "code",
   "execution_count": null,
   "metadata": {},
   "outputs": [],
   "source": [
    "DF.country[0]"
   ]
  },
  {
   "cell_type": "markdown",
   "metadata": {},
   "source": [
    "The column with country names is very important for merging (this is the **key** of the unit of analysis). You should always do this:"
   ]
  },
  {
   "cell_type": "code",
   "execution_count": null,
   "metadata": {},
   "outputs": [],
   "source": [
    "# no trailing nor leading spaces:\n",
    "DF['country']=DF.country.str.strip()"
   ]
  },
  {
   "cell_type": "markdown",
   "metadata": {},
   "source": [
    "You can apply the same function to every column:"
   ]
  },
  {
   "cell_type": "code",
   "execution_count": null,
   "metadata": {},
   "outputs": [],
   "source": [
    "byeSpaces= lambda COLUMN:COLUMN.str.strip()\n",
    "\n",
    "DF.apply(byeSpaces)"
   ]
  },
  {
   "cell_type": "code",
   "execution_count": null,
   "metadata": {},
   "outputs": [],
   "source": [
    "# save the result:\n",
    "DF=DF.apply(byeSpaces)"
   ]
  },
  {
   "cell_type": "markdown",
   "metadata": {},
   "source": [
    "## Verify that level names are consistent"
   ]
  },
  {
   "cell_type": "markdown",
   "metadata": {},
   "source": [
    "Let's keep looking for mistakes. Sometimes a category may be wrongly written in a cell. For instance, if you had 'Free' and 'free' or 'free ' to represent the same value in one column, you have a mistake. Let's see if there is one here. First, learn how to use **value_counts**:"
   ]
  },
  {
   "cell_type": "code",
   "execution_count": null,
   "metadata": {},
   "outputs": [],
   "source": [
    "DF.freedomintheworld.value_counts()"
   ]
  },
  {
   "cell_type": "markdown",
   "metadata": {},
   "source": [
    "Let's do the same for all the columns at once:"
   ]
  },
  {
   "cell_type": "code",
   "execution_count": null,
   "metadata": {},
   "outputs": [],
   "source": [
    "[DF[COLUMN].value_counts().index for COLUMN in DF.iloc[:,1::]]"
   ]
  },
  {
   "cell_type": "markdown",
   "metadata": {},
   "source": [
    "The values of each cell are clean. So no more work to be done here."
   ]
  },
  {
   "cell_type": "markdown",
   "metadata": {},
   "source": [
    "## Check the data types\n",
    "\n",
    "First, see what Python has assigned:"
   ]
  },
  {
   "cell_type": "code",
   "execution_count": null,
   "metadata": {},
   "outputs": [],
   "source": [
    "DF.dtypes"
   ]
  },
  {
   "cell_type": "markdown",
   "metadata": {},
   "source": [
    "Every column is type **object**. That is OK for country, but not for the others. Let's make the changes:\n",
    "\n",
    "a. Recognise the levels.\n",
    "\n",
    "b. Create the data type.\n",
    "\n",
    "c. If data is ordinal, set it so.\n",
    "\n",
    "We already know the levels (step a) when we use **value_counts()**. Let me make the first change:"
   ]
  },
  {
   "cell_type": "code",
   "execution_count": null,
   "metadata": {},
   "outputs": [],
   "source": [
    "from pandas.api.types import CategoricalDtype\n",
    "\n",
    "# create data type\n",
    "levelsFree = CategoricalDtype(categories=[\"not free\", \"partly free\", \"free\"], ordered=True)\n",
    "# make the change:\n",
    "DF.freedomintheworld=DF.freedomintheworld.astype(levelsFree)"
   ]
  },
  {
   "cell_type": "markdown",
   "metadata": {},
   "source": [
    "See the changes:"
   ]
  },
  {
   "cell_type": "code",
   "execution_count": null,
   "metadata": {},
   "outputs": [],
   "source": [
    "DF.freedomintheworld"
   ]
  },
  {
   "cell_type": "markdown",
   "metadata": {},
   "source": [
    "You can reorder the position of the labels to avoid writing text:"
   ]
  },
  {
   "cell_type": "code",
   "execution_count": null,
   "metadata": {},
   "outputs": [],
   "source": [
    "#original\n",
    "DF.economicfreedom.value_counts().index.tolist()"
   ]
  },
  {
   "cell_type": "code",
   "execution_count": null,
   "metadata": {},
   "outputs": [],
   "source": [
    "oldEcon = DF.economicfreedom.value_counts().index.tolist()\n",
    "newPositions = [3, 1,0,2,4]\n",
    "newEcon = [oldEcon[i] for i in newPositions]\n",
    "newEcon"
   ]
  },
  {
   "cell_type": "markdown",
   "metadata": {},
   "source": [
    "Get the other's new order:"
   ]
  },
  {
   "cell_type": "code",
   "execution_count": null,
   "metadata": {},
   "outputs": [],
   "source": [
    "oldPress = DF.pressfreedom.value_counts().index.tolist()\n",
    "newPositions = [3, 1,0,2,4]\n",
    "newPress = [oldPress[i] for i in newPositions]\n",
    "\n",
    "oldDemo = DF.democracy.value_counts().index.tolist()\n",
    "newPositions = [1, 2,0,3]\n",
    "newDemo = [oldDemo[i] for i in newPositions]"
   ]
  },
  {
   "cell_type": "markdown",
   "metadata": {},
   "source": [
    "Create the data types:"
   ]
  },
  {
   "cell_type": "code",
   "execution_count": null,
   "metadata": {},
   "outputs": [],
   "source": [
    "levelsEcon = CategoricalDtype(categories=newEcon, ordered=True)\n",
    "levelsPress = CategoricalDtype(categories=newPress, ordered=True)\n",
    "levelsDemo = CategoricalDtype(categories=newDemo, ordered=True)"
   ]
  },
  {
   "cell_type": "markdown",
   "metadata": {},
   "source": [
    "Make all changes:"
   ]
  },
  {
   "cell_type": "code",
   "execution_count": null,
   "metadata": {},
   "outputs": [],
   "source": [
    "DF.economicfreedom=DF.economicfreedom.astype(levelsEcon)\n",
    "DF.pressfreedom=DF.pressfreedom.astype(levelsPress)\n",
    "DF.democracy=DF.democracy.astype(levelsDemo)"
   ]
  },
  {
   "cell_type": "markdown",
   "metadata": {},
   "source": [
    "The result:"
   ]
  },
  {
   "cell_type": "code",
   "execution_count": null,
   "metadata": {},
   "outputs": [],
   "source": [
    "DF.dtypes"
   ]
  },
  {
   "cell_type": "code",
   "execution_count": null,
   "metadata": {},
   "outputs": [],
   "source": [
    "DF.describe()"
   ]
  },
  {
   "cell_type": "markdown",
   "metadata": {},
   "source": [
    "Notice that you have categorical data with text as levels:"
   ]
  },
  {
   "cell_type": "code",
   "execution_count": null,
   "metadata": {},
   "outputs": [],
   "source": [
    "DF"
   ]
  },
  {
   "cell_type": "markdown",
   "metadata": {},
   "source": [
    "It would be a good idea to have numbers instead. You can use **cat.codes** from Pandas:"
   ]
  },
  {
   "cell_type": "code",
   "execution_count": null,
   "metadata": {},
   "outputs": [],
   "source": [
    "getCodes = lambda COLUMN:COLUMN.cat.codes"
   ]
  },
  {
   "cell_type": "code",
   "execution_count": null,
   "metadata": {},
   "outputs": [],
   "source": [
    "# a new one\n",
    "DFnum=DF.copy() \n",
    "\n",
    "# get the codes as numeric\n",
    "DFnum.iloc[:,1::]=DF.iloc[:,1::].apply(getCodes)\n",
    "\n",
    "# see result:\n",
    "DFnum"
   ]
  },
  {
   "cell_type": "markdown",
   "metadata": {},
   "source": [
    "Notice that the missing values are represented by **-1**. We can set the missing values with the help of **numpy**:"
   ]
  },
  {
   "cell_type": "code",
   "execution_count": null,
   "metadata": {},
   "outputs": [],
   "source": [
    "import numpy as np\n",
    "\n",
    "DFnum.replace({-1:np.nan},inplace=True)\n",
    "\n",
    "#result:\n",
    "DFnum"
   ]
  },
  {
   "cell_type": "markdown",
   "metadata": {},
   "source": [
    "Remember that _economicfreedom_ and _pressfreedom_ have five values, while _freedomintheworld_ has three, and _democracy_ has four. Let's make those ranges compatibles:"
   ]
  },
  {
   "cell_type": "code",
   "execution_count": null,
   "metadata": {},
   "outputs": [],
   "source": [
    "replacing1={1:2,2:4}\n",
    "DFnum.freedomintheworld.replace(replacing1,inplace=True)\n",
    "replacing2={2:3,3:4}\n",
    "DFnum.democracy.replace(replacing2,inplace=True)"
   ]
  },
  {
   "cell_type": "code",
   "execution_count": null,
   "metadata": {},
   "outputs": [],
   "source": [
    "DFnum"
   ]
  },
  {
   "cell_type": "markdown",
   "metadata": {},
   "source": [
    "Let's check general information:"
   ]
  },
  {
   "cell_type": "code",
   "execution_count": null,
   "metadata": {},
   "outputs": [],
   "source": [
    "DFnum.describe()"
   ]
  },
  {
   "cell_type": "code",
   "execution_count": null,
   "metadata": {},
   "outputs": [],
   "source": [
    "DFnum.info()"
   ]
  },
  {
   "cell_type": "markdown",
   "metadata": {},
   "source": [
    "Even though you have numbers, these can be categories:"
   ]
  },
  {
   "cell_type": "code",
   "execution_count": null,
   "metadata": {},
   "outputs": [],
   "source": [
    "# create data type\n",
    "levelsALL = CategoricalDtype(categories=[0,1,2,3,4], ordered=True)"
   ]
  },
  {
   "cell_type": "code",
   "execution_count": null,
   "metadata": {},
   "outputs": [],
   "source": [
    "#make changes:\n",
    "DFnum.iloc[:,1::]=DFnum.iloc[:,1::].astype(levelsALL)"
   ]
  },
  {
   "cell_type": "markdown",
   "metadata": {},
   "source": [
    "Becareful with the last operation, because you create unused levels:"
   ]
  },
  {
   "cell_type": "code",
   "execution_count": null,
   "metadata": {},
   "outputs": [],
   "source": [
    "DFnum.freedomintheworld.value_counts()"
   ]
  },
  {
   "cell_type": "markdown",
   "metadata": {},
   "source": [
    "You can solve that here:"
   ]
  },
  {
   "cell_type": "code",
   "execution_count": null,
   "metadata": {},
   "outputs": [],
   "source": [
    "byeCats= lambda COLUMN:COLUMN.cat.remove_unused_categories()\n",
    "DFnum.iloc[:,1::]=DFnum.iloc[:,1::].apply(byeCats)"
   ]
  },
  {
   "cell_type": "markdown",
   "metadata": {},
   "source": [
    "Verify the changes:"
   ]
  },
  {
   "cell_type": "code",
   "execution_count": null,
   "metadata": {},
   "outputs": [],
   "source": [
    "DFnum.freedomintheworld.value_counts()"
   ]
  },
  {
   "cell_type": "code",
   "execution_count": null,
   "metadata": {},
   "outputs": [],
   "source": [
    "DFnum.democracy.value_counts()"
   ]
  },
  {
   "cell_type": "markdown",
   "metadata": {},
   "source": [
    "## Exercise\n",
    "\n",
    "Take a look at this [file](https://github.com/UWDataScience2020/data/raw/master/HDI_2018.xlsx). WRITE DOWN the algorithm you will follow to have it clean."
   ]
  }
 ],
 "metadata": {
  "anaconda-cloud": {
   "attach-environment": true,
   "summary": "test"
  },
  "hide_input": false,
  "kernelspec": {
   "display_name": "Python 3",
   "language": "python",
   "name": "python3"
  },
  "language_info": {
   "codemirror_mode": {
    "name": "ipython",
    "version": 3
   },
   "file_extension": ".py",
   "mimetype": "text/x-python",
   "name": "python",
   "nbconvert_exporter": "python",
   "pygments_lexer": "ipython3",
   "version": "3.7.5"
  }
 },
 "nbformat": 4,
 "nbformat_minor": 1
}
